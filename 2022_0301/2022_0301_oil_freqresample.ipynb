{
 "cells": [
  {
   "cell_type": "code",
   "execution_count": 1,
   "id": "e8847f09",
   "metadata": {
    "scrolled": false
   },
   "outputs": [
    {
     "data": {
      "text/plain": [
       "Date\n",
       "1990-01-01    18.180\n",
       "1990-01-02    18.180\n",
       "1990-01-03    18.835\n",
       "1990-01-04    18.470\n",
       "1990-01-05    18.115\n",
       "               ...  \n",
       "2022-02-17    92.035\n",
       "2022-02-18    90.415\n",
       "2022-02-21    91.860\n",
       "2022-02-22    96.090\n",
       "2022-02-23    93.770\n",
       "Name: DUBAI, Length: 8130, dtype: float64"
      ]
     },
     "execution_count": 1,
     "metadata": {},
     "output_type": "execute_result"
    }
   ],
   "source": [
    "import pandas as pd\n",
    "url=\"https://github.com/phat-ap/curly-octo-train/raw/c22aec8f6ae3552a967c336ee09a5b938f084d8e/Oil%20Price.xlsx\"\n",
    "sheet_name=\"Sheet1\"\n",
    "df = pd.read_excel(url, sheet_name=sheet_name, index_col = \"Date\", usecols = ['Date', 'DUBAI'])\n",
    "\n",
    "# Convert to just a series\n",
    "dubai = df.squeeze()\n",
    "dubai"
   ]
  },
  {
   "cell_type": "code",
   "execution_count": 18,
   "id": "b7481d01",
   "metadata": {
    "scrolled": true
   },
   "outputs": [
    {
     "name": "stdout",
     "output_type": "stream",
     "text": [
      "Date\n",
      "2022-01-31    83.306667\n",
      "2022-02-28    91.063750\n",
      "Freq: M, Name: DUBAI, dtype: float64\n",
      "Date\n",
      "2022-01-31    88.525\n",
      "2022-02-28    93.770\n",
      "Freq: M, Name: DUBAI, dtype: float64\n",
      "Date\n",
      "2021-12-31    78.380164\n",
      "2022-03-31    86.661081\n",
      "Freq: Q-DEC, Name: DUBAI, dtype: float64\n",
      "Date\n",
      "2021-12-31    77.135\n",
      "2022-03-31    93.770\n",
      "Freq: Q-DEC, Name: DUBAI, dtype: float64\n",
      "Date\n",
      "2021-12-31    69.514897\n",
      "2022-12-31    86.661081\n",
      "Freq: A-DEC, Name: DUBAI, dtype: float64\n",
      "Date\n",
      "2021-12-31    77.135\n",
      "2022-12-31    93.770\n",
      "Freq: A-DEC, Name: DUBAI, dtype: float64\n"
     ]
    }
   ],
   "source": [
    "print(dubai.resample('M').mean()[-2:])\n",
    "print(dubai.resample('M').last()[-2:])\n",
    "print(dubai.resample('Q').mean()[-2:])\n",
    "print(dubai.resample('Q').last()[-2:])\n",
    "print(dubai.resample('Y').mean()[-2:])\n",
    "print(dubai.resample('Y').last()[-2:])"
   ]
  },
  {
   "cell_type": "code",
   "execution_count": 8,
   "id": "1791c67e",
   "metadata": {},
   "outputs": [
    {
     "data": {
      "text/plain": [
       "Date\n",
       "1990-01-31    17.490\n",
       "1990-02-28    16.580\n",
       "1990-03-31    15.650\n",
       "1990-04-30    14.255\n",
       "1990-05-31    13.770\n",
       "               ...  \n",
       "2021-10-31    82.685\n",
       "2021-11-30    72.045\n",
       "2021-12-31    77.135\n",
       "2022-01-31    88.525\n",
       "2022-02-28    93.770\n",
       "Freq: M, Name: DUBAI, Length: 386, dtype: float64"
      ]
     },
     "execution_count": 8,
     "metadata": {},
     "output_type": "execute_result"
    }
   ],
   "source": []
  }
 ],
 "metadata": {
  "kernelspec": {
   "display_name": "Python 3 (ipykernel)",
   "language": "python",
   "name": "python3"
  },
  "language_info": {
   "codemirror_mode": {
    "name": "ipython",
    "version": 3
   },
   "file_extension": ".py",
   "mimetype": "text/x-python",
   "name": "python",
   "nbconvert_exporter": "python",
   "pygments_lexer": "ipython3",
   "version": "3.9.7"
  }
 },
 "nbformat": 4,
 "nbformat_minor": 5
}
